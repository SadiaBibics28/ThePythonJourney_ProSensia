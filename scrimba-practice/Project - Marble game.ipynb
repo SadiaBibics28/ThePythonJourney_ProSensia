{
 "cells": [
  {
   "cell_type": "code",
   "execution_count": null,
   "id": "5045f410-1e4a-4d91-bca2-5a8ce9cfc020",
   "metadata": {},
   "outputs": [],
   "source": [
    "#Project - Marble/Trading game\n",
    "\n",
    "import random\n",
    "\n",
    "# Bag containing marbles\n",
    "bag = ('green','green','green','green','green','black','red','red','red','white')\n",
    "\n",
    "# Starting and current money\n",
    "start_purse = 1000\n",
    "purse = start_purse\n",
    "\n",
    "# Last result and last marble\n",
    "result = 0\n",
    "marble = 'none'\n",
    "\n",
    "# Number of rounds\n",
    "rounds = 3\n",
    "\n",
    "print(f'You start the game with {start_purse} gold pieces')\n",
    "\n",
    "# Play for given rounds\n",
    "for draw in range(1, rounds + 1):\n",
    "    # Take bet from player\n",
    "    bet = int(input(f'Current Purse: {purse} Last draw: {marble} \\nRound {draw} - How much do you want to bet?: '))\n",
    "    \n",
    "    # Draw a random marble\n",
    "    marble = random.choice(bag)\n",
    "    \n",
    "    # Check marble and calculate result\n",
    "    if marble == 'green':\n",
    "        result = bet            \n",
    "    elif marble == 'black':\n",
    "        result = 10 * bet        \n",
    "    elif marble == 'white':\n",
    "        result = -5 * bet        \n",
    "    else:\n",
    "        result = -bet            \n",
    "    \n",
    "    # Update purse\n",
    "    purse += result\n",
    "    \n",
    "    # End game if half money lost\n",
    "    if purse < 0.5 * start_purse:\n",
    "        print('Game over! You lost too much gold!!!')\n",
    "        break\n",
    "    \n",
    "    # Show round result\n",
    "    print(f'purse: {purse}, last result: ({marble}): {result}\\n')\n",
    "\n",
    "# Final result\n",
    "print('starting/ ending purse: ', start_purse, '/', purse)\n",
    "print('gain/loss: ', ((purse - start_purse) / start_purse * 100), '%')"
   ]
  }
 ],
 "metadata": {
  "kernelspec": {
   "display_name": "Python [conda env:base] *",
   "language": "python",
   "name": "conda-base-py"
  },
  "language_info": {
   "codemirror_mode": {
    "name": "ipython",
    "version": 3
   },
   "file_extension": ".py",
   "mimetype": "text/x-python",
   "name": "python",
   "nbconvert_exporter": "python",
   "pygments_lexer": "ipython3",
   "version": "3.12.7"
  }
 },
 "nbformat": 4,
 "nbformat_minor": 5
}
