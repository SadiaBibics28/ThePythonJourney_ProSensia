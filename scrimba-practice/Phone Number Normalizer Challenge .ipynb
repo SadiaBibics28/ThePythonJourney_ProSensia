{
 "cells": [
  {
   "cell_type": "code",
   "execution_count": 1,
   "id": "128fd482-a6f3-4e19-8148-99c4c53fed7d",
   "metadata": {},
   "outputs": [
    {
     "name": "stdin",
     "output_type": "stream",
     "text": [
      "Enter a U.S. phone number (any format):  - (123)4567890\n"
     ]
    },
    {
     "name": "stdout",
     "output_type": "stream",
     "text": [
      "Formatted number: (123) 456-7890\n"
     ]
    }
   ],
   "source": [
    "                 #Phone Number Normalizer Challenge \n",
    "\n",
    "# Take phone number input in any format from the user\n",
    "phone_input = input(\"Enter a U.S. phone number (any format): \")\n",
    "\n",
    "# Remove any extra spaces from the beginning and end\n",
    "cleaned = phone_input.strip()\n",
    "\n",
    "# Replace unwanted characters (-, (), .) with spaces\n",
    "for ch in [\"-\", \"(\", \")\", \".\"]:\n",
    "    cleaned = cleaned.replace(ch, \" \")\n",
    "\n",
    "# Split the cleaned string by spaces and join all parts to keep only digits\n",
    "parts = cleaned.split()\n",
    "digits_only = \"\".join(parts)\n",
    "\n",
    "# Check if the number has exactly 10 digits\n",
    "if len(digits_only) == 10:\n",
    "    # Extract area code, middle part, and last part\n",
    "    area = digits_only[0:3]\n",
    "    mid = digits_only[3:6]\n",
    "    end = digits_only[6:]\n",
    "    \n",
    "    # Display the formatted phone number\n",
    "    print(f\"Formatted number: ({area}) {mid}-{end}\")\n",
    "else:\n",
    "    # Show error if the digits are not exactly 10\n",
    "    print(\"Error: Please enter exactly 10 digits.\")"
   ]
  },
  {
   "cell_type": "code",
   "execution_count": null,
   "id": "fe89946b-732e-4d66-b741-c4b3296eaf66",
   "metadata": {},
   "outputs": [],
   "source": []
  }
 ],
 "metadata": {
  "kernelspec": {
   "display_name": "Python [conda env:base] *",
   "language": "python",
   "name": "conda-base-py"
  },
  "language_info": {
   "codemirror_mode": {
    "name": "ipython",
    "version": 3
   },
   "file_extension": ".py",
   "mimetype": "text/x-python",
   "name": "python",
   "nbconvert_exporter": "python",
   "pygments_lexer": "ipython3",
   "version": "3.12.7"
  }
 },
 "nbformat": 4,
 "nbformat_minor": 5
}
