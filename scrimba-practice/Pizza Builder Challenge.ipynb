{
 "cells": [
  {
   "cell_type": "code",
   "execution_count": null,
   "id": "5a91e96d-b122-4224-aaa7-dab3382939ba",
   "metadata": {},
   "outputs": [],
   "source": [
    "You said:\n",
    "# Simple Pizza class to build and customize pizzas\n",
    "\n",
    "class Pizza:\n",
    "     # Initialize pizza with size, crust and optional toppings\n",
    "    def __init__(self, size, crust, toppings=None):\n",
    "        self.size = size\n",
    "        self.crust = crust\n",
    "        self.toppings = toppings if toppings else []\n",
    "      \n",
    "    # Add a topping to the pizza\n",
    "    def add_topping(self, topping):\n",
    "        self.toppings.append(topping)\n",
    "# Remove topping if it exists, otherwise show a message        \n",
    "    def remove_topping(self, topping):\n",
    "        if topping in self.toppings:\n",
    "            self.toppings.remove(topping)\n",
    "        else:\n",
    "            print(f\"{topping} isn't on your pizza.\")\n",
    "   # Print pizza details          \n",
    "    def describe_pizza(self):\n",
    "        print(\"\\n ------Your Pizza ------\")\n",
    "        print(f\"Size: {self.size.title()}\")\n",
    "        print(f\"Crust: {self.crust.title()}\")\n",
    "        \n",
    "        if self.toppings:\n",
    "            print(\"Toppings: \")\n",
    "            for topping in self.toppings:\n",
    "                print(f\"  - {topping.title()}\")\n",
    "        else:\n",
    "            print(\"No toppings added yet!\")\n",
    "\n",
    "# Create a pizza with no toppings first\n",
    "my_pizza = Pizza(\"large\", \"thin\")\n",
    "\n",
    "# Add some toppings\n",
    "my_pizza.add_topping(\"pepperoni\")\n",
    "my_pizza.add_topping(\"mushrooms\")\n",
    "my_pizza.add_topping(\"onions\")\n",
    "\n",
    "# Remove one topping\n",
    "my_pizza.remove_topping(\"onions\")\n",
    "\n",
    "# Show final pizza details\n",
    "my_pizza.describe_pizza()\n",
    "\n",
    "\n",
    "# Second pizza with default toppings\n",
    "friend_pizza = Pizza(\"medium\", \"deep dish\", [\"bacon\", \"extra cheese\"])\n",
    "\n",
    "# Add one more topping\n",
    "friend_pizza.add_topping(\"olives\")\n",
    "\n",
    "# Show friend's pizza\n",
    "friend_pizza.describe_pizza() "
   ]
  }
 ],
 "metadata": {
  "kernelspec": {
   "display_name": "Python [conda env:base] *",
   "language": "python",
   "name": "conda-base-py"
  },
  "language_info": {
   "codemirror_mode": {
    "name": "ipython",
    "version": 3
   },
   "file_extension": ".py",
   "mimetype": "text/x-python",
   "name": "python",
   "nbconvert_exporter": "python",
   "pygments_lexer": "ipython3",
   "version": "3.12.7"
  }
 },
 "nbformat": 4,
 "nbformat_minor": 5
}
