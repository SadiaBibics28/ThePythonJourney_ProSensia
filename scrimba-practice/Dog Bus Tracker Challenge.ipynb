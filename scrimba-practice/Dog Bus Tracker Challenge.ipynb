{
 "cells": [
  {
   "cell_type": "code",
   "execution_count": 3,
   "id": "802e8a65-e326-4218-9127-2aa83e3eaaee",
   "metadata": {},
   "outputs": [
    {
     "name": "stdout",
     "output_type": "stream",
     "text": [
      "-- Starting Roster --\n",
      "Seat 1: Luna (Pickup: 7:50 AM)\n",
      "Seat 2: Buddy (Pickup: 8:10 AM)\n",
      "Seat 3: Daisy (Pickup: 8:25 AM)\n",
      "\n",
      "Charlie boards the bus (Seat 4).\n",
      "\n",
      "-- Roster After Pickup --\n",
      "Seat 1: Luna\n",
      "Seat 2: Buddy\n",
      "Seat 3: Daisy\n",
      "Seat 4: Charlie\n"
     ]
    },
    {
     "name": "stdin",
     "output_type": "stream",
     "text": [
      "\n",
      "Which pet goes home early?  Daisy\n"
     ]
    },
    {
     "name": "stdout",
     "output_type": "stream",
     "text": [
      "\n",
      "Daisy (Seat 3) leaves early.\n",
      "\n",
      "-- Final Roster --\n",
      "Seat 1: Luna (Drop-off: 3:50 PM)\n",
      "Seat 2: Buddy (Drop-off: 4:10 PM)\n",
      "Seat 4: Charlie (Drop-off: 4:40 PM)\n"
     ]
    }
   ],
   "source": [
    "#Dog Bus Tracker Challenge\n",
    "\n",
    "# Maximum seats available on the bus\n",
    "MAX_SEATS = 8\n",
    "\n",
    "# Current bus roster with seat numbers as keys\n",
    "bus = {\n",
    "    1: {\"name\": \"Luna\", \"breed\": \"Golden Retriever\", \"pickup\": \"7:50 AM\", \"dropoff\": \"3:50 PM\"},\n",
    "    2: {\"name\": \"Buddy\", \"breed\": \"Beagle\", \"pickup\": \"8:10 AM\", \"dropoff\": \"4:10 PM\"},\n",
    "    3: {\"name\": \"Daisy\", \"breed\": \"Australian Shepherd\", \"pickup\": \"8:25 AM\", \"dropoff\": \"4:25 PM\"},\n",
    "}\n",
    "\n",
    "# Display starting roster\n",
    "print(\"-- Starting Roster --\")\n",
    "for seat, info in bus.items():\n",
    "    print(f\"Seat {seat}: {info['name']} (Pickup: {info['pickup']})\")\n",
    "\n",
    "# Check if there is a free seat for a new pet\n",
    "if len(bus) < MAX_SEATS:\n",
    "    seat_num = len(bus) + 1\n",
    "    new_pet = {\n",
    "        \"name\": \"Charlie\",\n",
    "        \"breed\": \"Shiba Inu\",\n",
    "        \"pickup\": \"8:40 AM\",\n",
    "        \"dropoff\": \"4:40 PM\",\n",
    "    }\n",
    "    bus[seat_num] = new_pet\n",
    "    print(f\"\\n{new_pet['name']} boards the bus (Seat {seat_num}).\")\n",
    "else:\n",
    "    print(\"\\nNo free seats available.\")\n",
    "\n",
    "# Display roster after pickup\n",
    "print(\"\\n-- Roster After Pickup --\")\n",
    "for seat, info in bus.items():\n",
    "    print(f\"Seat {seat}: {info['name']}\")\n",
    "\n",
    "# Ask which pet is leaving early\n",
    "remove_name = input(\"\\nWhich pet goes home early? \").strip().lower()\n",
    "\n",
    "# Search for the pet by name\n",
    "seat_to_remove = 0\n",
    "for seat, info in bus.items():\n",
    "    if info['name'].lower() == remove_name:\n",
    "        seat_to_remove = seat\n",
    "        break\n",
    "\n",
    "# Remove pet if found\n",
    "if seat_to_remove:\n",
    "    gone = bus.pop(seat_to_remove)\n",
    "    print(f\"\\n{gone['name']} (Seat {seat_to_remove}) leaves early.\")\n",
    "else:\n",
    "    print(f\"\\nNo pet named '{remove_name}' found on the bus.\")\n",
    "\n",
    "# Display final roster\n",
    "print(\"\\n-- Final Roster --\")\n",
    "for seat, info in bus.items():\n",
    "    print(f\"Seat {seat}: {info['name']} (Drop-off: {info['dropoff']})\")"
   ]
  },
  {
   "cell_type": "code",
   "execution_count": null,
   "id": "bc50936f-0d86-4d9f-ab09-c2aaaa18fc14",
   "metadata": {},
   "outputs": [],
   "source": []
  }
 ],
 "metadata": {
  "kernelspec": {
   "display_name": "Python [conda env:base] *",
   "language": "python",
   "name": "conda-base-py"
  },
  "language_info": {
   "codemirror_mode": {
    "name": "ipython",
    "version": 3
   },
   "file_extension": ".py",
   "mimetype": "text/x-python",
   "name": "python",
   "nbconvert_exporter": "python",
   "pygments_lexer": "ipython3",
   "version": "3.12.7"
  }
 },
 "nbformat": 4,
 "nbformat_minor": 5
}
