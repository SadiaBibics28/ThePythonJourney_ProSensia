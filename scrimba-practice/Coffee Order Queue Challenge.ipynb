{
 "cells": [
  {
   "cell_type": "code",
   "execution_count": null,
   "id": "8b69b4c3-980d-44be-b675-9a5f351890c3",
   "metadata": {},
   "outputs": [],
   "source": [
    "#  Coffee Order Queue Challenge\n",
    "\n",
    "#  Create variables to track the total cost and number of drinks ordered\n",
    "total_price = 0.0     \n",
    "drink_count = 0       \n",
    "\n",
    "#  Start a loop that will keep running until the user decides to stop\n",
    "while True:\n",
    "     # Ask for the customer's name\n",
    "    customer_name = input(\"Enter the customer's name (or type 'done' to finish): \")\n",
    "    \n",
    "    # : If the name is 'done', exit the loop\n",
    "    if customer_name == \"done\":\n",
    "        break\n",
    "    \n",
    "    #  Ask what drink the customer wants\n",
    "    drink_order = input(f\"What would {customer_name} like to order? \")\n",
    "    \n",
    "    #  Match the drink to its price and update totals\n",
    "    if drink_order == \"latte\":\n",
    "        total_price += 3.50\n",
    "        drink_count += 1\n",
    "    elif drink_order == \"americano\":\n",
    "        total_price += 3.00\n",
    "        drink_count += 1\n",
    "    elif drink_order == \"espresso\":\n",
    "        total_price += 2.50\n",
    "        drink_count += 1\n",
    "    # Step 7: If the drink is not recognized, show a warning message\n",
    "    else:\n",
    "        print(f\"Sorry, we don't have '{drink_order}' on the menu.\")\n",
    "        continue\n",
    "\n",
    "# Step 8: Once the loop ends, show the summary of the orders\n",
    "print(\"\\nOrder taking complete.\")\n",
    "print(f\"Total drinks ordered: {drink_count}\")\n",
    "print(f\"Total amount: ${total_price:.2f}\")"
   ]
  }
 ],
 "metadata": {
  "kernelspec": {
   "display_name": "Python [conda env:base] *",
   "language": "python",
   "name": "conda-base-py"
  },
  "language_info": {
   "codemirror_mode": {
    "name": "ipython",
    "version": 3
   },
   "file_extension": ".py",
   "mimetype": "text/x-python",
   "name": "python",
   "nbconvert_exporter": "python",
   "pygments_lexer": "ipython3",
   "version": "3.12.7"
  }
 },
 "nbformat": 4,
 "nbformat_minor": 5
}
