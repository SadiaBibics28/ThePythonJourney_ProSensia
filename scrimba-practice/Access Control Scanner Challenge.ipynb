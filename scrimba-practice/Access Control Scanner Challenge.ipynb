{
 "cells": [
  {
   "cell_type": "code",
   "execution_count": null,
   "id": "4b778edd-5eb6-4675-ba48-d6bf2fab838d",
   "metadata": {},
   "outputs": [
    {
     "name": "stdin",
     "output_type": "stream",
     "text": [
      "Enter person's name (or type 'done' to finish):  Ahmad\n",
      "Enter badge number:  A453\n"
     ]
    },
    {
     "name": "stdout",
     "output_type": "stream",
     "text": [
      "[ACCESS GRANTED] Ahmad\n"
     ]
    }
   ],
   "source": [
    "#Access Control Scanner Challenge\n",
    "\n",
    "# Set of revoked badge numbers (predefined by the security team)\n",
    "revoked_badges = {\"K321\", \"M654\", \"P888\"}  \n",
    "\n",
    "# Lists to keep track of approved and denied visitors\n",
    "approved = []\n",
    "denied = []\n",
    "\n",
    "# Continuous input loop until the user types \"done\"\n",
    "while True:\n",
    "    # Ask for visitor name\n",
    "    name = input(\"Enter person's name (or type 'done' to finish): \").strip()\n",
    "    if name.lower() == \"done\":\n",
    "        break  \n",
    "\n",
    "    # Ask for badge number and convert to uppercase for consistency\n",
    "    badge = input(\"Enter badge number: \").strip().upper()\n",
    "\n",
    "    # Check if badge is in revoked list\n",
    "    if badge in revoked_badges:\n",
    "        denied.append(name)  # Add person to denied list\n",
    "        print(f\"[ACCESS DENIED] {name} - Revoked badge\")\n",
    "    else:\n",
    "        approved.append(name)  # Add person to approved list\n",
    "        print(f\"[ACCESS GRANTED] {name}\")\n",
    "\n",
    "# Final summary report\n",
    "print(\"\\n------- Access Summary --------\")\n",
    "\n",
    "# Print approved visitors in alphabetical order\n",
    "print(\" Approved Visitors:\")\n",
    "for person in sorted(approved):\n",
    "    print(f\" - {person}\")\n",
    "\n",
    "# Print denied visitors in alphabetical order\n",
    "print(\" Denied Visitors:\")\n",
    "for person in sorted(denied):\n",
    "    print(f\" - {person}\")\n",
    "\n",
    "# Display counts\n",
    "print(f\"\\nTotal Approved: {len(approved)}\")\n",
    "print(f\"Total Denied: {len(denied)}\")"
   ]
  },
  {
   "cell_type": "code",
   "execution_count": null,
   "id": "9f93a480-320e-4063-991a-3e242acb9726",
   "metadata": {},
   "outputs": [],
   "source": []
  }
 ],
 "metadata": {
  "kernelspec": {
   "display_name": "Python [conda env:base] *",
   "language": "python",
   "name": "conda-base-py"
  },
  "language_info": {
   "codemirror_mode": {
    "name": "ipython",
    "version": 3
   },
   "file_extension": ".py",
   "mimetype": "text/x-python",
   "name": "python",
   "nbconvert_exporter": "python",
   "pygments_lexer": "ipython3",
   "version": "3.12.7"
  }
 },
 "nbformat": 4,
 "nbformat_minor": 5
}
