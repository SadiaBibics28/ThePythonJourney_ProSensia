{
 "cells": [
  {
   "cell_type": "code",
   "execution_count": null,
   "id": "9dfbba00-a021-484f-b8c9-244aa6bfef64",
   "metadata": {},
   "outputs": [
    {
     "name": "stdin",
     "output_type": "stream",
     "text": [
      "How many people are entering the raffle?  3\n",
      "Enter name 1:  Ahmad\n",
      "Enter name 2:  Hammad\n",
      "Enter name 3:  Muhammad\n",
      "Prize 1:  Book\n"
     ]
    }
   ],
   "source": [
    "#Raffle Prize Picker\n",
    "\n",
    "import random  # for selecting random winners\n",
    "\n",
    "# Get number of participants\n",
    "num_people = int(input(\"How many people are entering the raffle? \"))\n",
    "\n",
    "# Must have at least 3 participants\n",
    "if num_people < 3:\n",
    "    print(\"You need at least 3 participants to run the raffle!\")\n",
    "    exit()\n",
    "\n",
    "# Collect participant names\n",
    "participants = []\n",
    "for i in range(num_people):\n",
    "    name = input(f\"Enter name {i+1}: \")\n",
    "    participants.append(name)\n",
    "\n",
    "# Collect 3 prizes\n",
    "prizes = []\n",
    "for i in range(3):\n",
    "    prize = input(f\"Prize {i+1}: \")\n",
    "    prizes.append(prize)\n",
    "\n",
    "# Pick 3 random winners\n",
    "winners = random.sample(participants, 3)\n",
    "\n",
    "# Show results\n",
    "print(\"\\n=====  Raffle Results  =====\")\n",
    "for i in range(3):\n",
    "    if i == 2:  # last one is grand prize\n",
    "        print(f\"\\n GRAND PRIZE: {winners[i]} wins the {prizes[i]}!\")\n",
    "    else:\n",
    "        print(f\" - {winners[i]} wins the {prizes[i]}\")"
   ]
  },
  {
   "cell_type": "code",
   "execution_count": null,
   "id": "c1fccd2b-4c6c-47c6-8175-1c7dce560d59",
   "metadata": {},
   "outputs": [],
   "source": []
  }
 ],
 "metadata": {
  "kernelspec": {
   "display_name": "Python [conda env:base] *",
   "language": "python",
   "name": "conda-base-py"
  },
  "language_info": {
   "codemirror_mode": {
    "name": "ipython",
    "version": 3
   },
   "file_extension": ".py",
   "mimetype": "text/x-python",
   "name": "python",
   "nbconvert_exporter": "python",
   "pygments_lexer": "ipython3",
   "version": "3.12.7"
  }
 },
 "nbformat": 4,
 "nbformat_minor": 5
}
