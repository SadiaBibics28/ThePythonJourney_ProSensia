{
 "cells": [
  {
   "cell_type": "code",
   "execution_count": null,
   "id": "871368f4-e9e8-4a54-8341-1fd0bcc89fcd",
   "metadata": {},
   "outputs": [],
   "source": [
    "#Pitch Stop Timing Optimizer Challenge\n",
    "\n",
    "# Ask the user for race details\n",
    "total_race_time = float(input(\"Enter the total race time (in seconds): \"))\n",
    "pit_stop_count = int(input(\"Enter the number of pit stops: \"))\n",
    "avg_pit_stop_time = float(input(\"Enter the average pit stop time (in seconds): \"))\n",
    "\n",
    "#  Calculate the total time spent in pit stops\n",
    "total_pit_time = pit_stop_count * avg_pit_stop_time\n",
    "\n",
    "#  Work out the percentage of the race spent in the pits\n",
    "pit_time_percentage = (total_pit_time / total_race_time) * 100\n",
    "\n",
    "#  Round percentage to 2 decimal places for neat output\n",
    "pit_time_percentage = round(pit_time_percentage, 2)\n",
    "\n",
    "#  Display the results\n",
    "print(\"\\n--- Pit Stop Summary ---\")\n",
    "print(f\"Total time in pit stops: {total_pit_time} seconds\")\n",
    "print(f\"Percentage of race in pits: {pit_time_percentage}%\")\n",
    "\n",
    "# Feedback if pit time exceeds 5% of race time\n",
    "if pit_time_percentage > 5:\n",
    "    print(\"You need a new pit crew.\")"
   ]
  }
 ],
 "metadata": {
  "kernelspec": {
   "display_name": "Python [conda env:base] *",
   "language": "python",
   "name": "conda-base-py"
  },
  "language_info": {
   "codemirror_mode": {
    "name": "ipython",
    "version": 3
   },
   "file_extension": ".py",
   "mimetype": "text/x-python",
   "name": "python",
   "nbconvert_exporter": "python",
   "pygments_lexer": "ipython3",
   "version": "3.12.7"
  }
 },
 "nbformat": 4,
 "nbformat_minor": 5
}
