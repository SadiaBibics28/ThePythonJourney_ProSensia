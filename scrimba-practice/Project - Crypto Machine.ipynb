{
 "cells": [
  {
   "cell_type": "code",
   "execution_count": 3,
   "id": "aa2eca57-79da-4ff1-ba33-f8cb0d22f6f7",
   "metadata": {},
   "outputs": [
    {
     "name": "stdin",
     "output_type": "stream",
     "text": [
      "Enter your secret message:  I am hard working student \n",
      "Choose mode - encode (e) or decode (d):  e\n"
     ]
    },
    {
     "name": "stdout",
     "output_type": "stream",
     "text": [
      "Hz!lzg!qczvnqjhmfzrstcdmsz\n"
     ]
    }
   ],
   "source": [
    "# Project - Crypto Machine\n",
    "\n",
    "def enigma_light():\n",
    "    # Define the set of characters allowed in the message\n",
    "    keys = 'abcdefghijklmnopqrstuvwxyz !'\n",
    "    \n",
    "    # Shift the keys by 1 position to create substitution values\n",
    "    values = keys[-1] + keys[:-1]\n",
    "    \n",
    "    # Create two dictionaries: one for encoding, one for decoding\n",
    "    dict_e = dict(zip(keys, values))   # encoding map\n",
    "    dict_d = dict(zip(values, keys))   # decoding map\n",
    "    \n",
    "    # Take input from the user\n",
    "    msg = input('Enter your secret message: ')\n",
    "    mode = input('Choose mode - encode (e) or decode (d): ')\n",
    "    \n",
    "    # Encode or decode based on user choice\n",
    "    if mode.lower() == 'e':\n",
    "        new_msg = ''.join([dict_e[char] for char in msg.lower()])\n",
    "    else:\n",
    "        new_msg = ''.join([dict_d[char] for char in msg.lower()])\n",
    "    \n",
    "    # Return the result with the first letter capitalized\n",
    "    return new_msg.capitalize()\n",
    "\n",
    " # Call the function\n",
    "print(enigma_light())"
   ]
  },
  {
   "cell_type": "code",
   "execution_count": null,
   "id": "e2014c3d-952c-4fea-a18b-38b9c3199e4a",
   "metadata": {},
   "outputs": [],
   "source": []
  }
 ],
 "metadata": {
  "kernelspec": {
   "display_name": "Python [conda env:base] *",
   "language": "python",
   "name": "conda-base-py"
  },
  "language_info": {
   "codemirror_mode": {
    "name": "ipython",
    "version": 3
   },
   "file_extension": ".py",
   "mimetype": "text/x-python",
   "name": "python",
   "nbconvert_exporter": "python",
   "pygments_lexer": "ipython3",
   "version": "3.12.7"
  }
 },
 "nbformat": 4,
 "nbformat_minor": 5
}
