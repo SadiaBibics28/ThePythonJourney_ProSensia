{
 "cells": [
  {
   "cell_type": "code",
   "execution_count": 7,
   "id": "6d593089-4349-440f-8679-fa1c9c96663c",
   "metadata": {},
   "outputs": [
    {
     "name": "stdin",
     "output_type": "stream",
     "text": [
      "How many questions do you want?:  3\n",
      "Highest number used in practice?:  6\n",
      "3 X 4 =  12\n",
      "5 X 2 =  10\n",
      "5 X 5 =  25\n"
     ]
    },
    {
     "name": "stdout",
     "output_type": "stream",
     "text": [
      "Thank you for playing! \n",
      "You got 3 out of 3 (100%) correct in 12.8seconds (4.3seconds/question)\n",
      "3 X 4 = 12 you:12\n",
      "5 X 2 = 10 you:10\n",
      "5 X 5 = 25 you:25\n"
     ]
    }
   ],
   "source": [
    "###### # Math Tutor - Project\n",
    "\n",
    "#import modules\n",
    "from  random import randrange as r \n",
    "from time import time as t\n",
    "# ask how many questions user wants\n",
    "no_questions = int(input('How many questions do you want?: '))\n",
    "max_num =int(input('Highest number used in practice?: '))\n",
    "#set score start at zero\n",
    "score = 0\n",
    "answer_list = []\n",
    "#loop through number of questions\n",
    "start = t()\n",
    "for q in range(no_questions):\n",
    "    num1,num2 = r(1,max_num+1),r(1,max_num+1)\n",
    "    ans = num1 * num2\n",
    "    u_ans =int(input(f'{num1} X {num2} = '))\n",
    "    answer_list.append(f'{num1} X {num2} = {ans} you:{u_ans}')\n",
    "    if u_ans == ans:\n",
    "        score += 1\n",
    "    end = t()\n",
    "print(f'Thank you for playing! \\nYou got {score} out of {no_questions} ({round(score/\n",
    "no_questions*100)}%) correct in {round(end-start,1)}seconds ({round((end-start)/no_questions,1)}seconds/question)')\n",
    "for a in answer_list:\n",
    "    print(a)\n",
    "# create two random numbers and calc answer\n",
    "# show user the question\n",
    "# capture answer and modify user score\n",
    "# output final score"
   ]
  },
  {
   "cell_type": "code",
   "execution_count": null,
   "id": "b5fc14d4-2a40-44a3-b8a8-26add4631bc2",
   "metadata": {},
   "outputs": [],
   "source": []
  }
 ],
 "metadata": {
  "kernelspec": {
   "display_name": "Python [conda env:base] *",
   "language": "python",
   "name": "conda-base-py"
  },
  "language_info": {
   "codemirror_mode": {
    "name": "ipython",
    "version": 3
   },
   "file_extension": ".py",
   "mimetype": "text/x-python",
   "name": "python",
   "nbconvert_exporter": "python",
   "pygments_lexer": "ipython3",
   "version": "3.12.7"
  }
 },
 "nbformat": 4,
 "nbformat_minor": 5
}
