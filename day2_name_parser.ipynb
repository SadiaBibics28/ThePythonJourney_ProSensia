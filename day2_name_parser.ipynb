{
 "cells": [
  {
   "cell_type": "code",
   "execution_count": 5,
   "id": "73bbfa4b-0018-4b82-b474-2fb7e1b5d1c2",
   "metadata": {},
   "outputs": [
    {
     "name": "stdin",
     "output_type": "stream",
     "text": [
      "Enter comma-separated names:  Sadia,ali,ahmad\n"
     ]
    },
    {
     "name": "stdout",
     "output_type": "stream",
     "text": [
      "\n",
      "Cleaned Names:\n",
      "Ahmad | Ali | Sadia\n",
      "\n",
      "Total Unique Names: 3\n",
      " Shortest Name: Ali\n",
      " Longest Name: Ahmad\n",
      "\n",
      " Names with Index:\n",
      "1. Ahmad\n",
      "2. Ali\n",
      "3. Sadia\n"
     ]
    }
   ],
   "source": [
    "#Task Title: Name Parser and Cleaner Using Lists & Sets\n",
    "\n",
    "\n",
    "def format_names(input_string):\n",
    "    # Split the input string using commas to separate names\n",
    "    raw_names = input_string.split(',')\n",
    "\n",
    "    # Trim whitespace and capitalize the first letter of each name\n",
    "    cleaned_names = [name.strip().capitalize() for name in raw_names]\n",
    "\n",
    "    # Remove duplicate names by converting the list to a set, then back to a list\n",
    "    unique_names = list(set(cleaned_names))\n",
    "\n",
    "    # Sort the names in alphabetical order\n",
    "    unique_names.sort()\n",
    "\n",
    "    # Join all names into a single string separated by \" | \"\n",
    "    joined_names = \" | \".join(unique_names)\n",
    "\n",
    "    # Identify the shortest and longest names\n",
    "    shortest_name = min(unique_names, key=len)\n",
    "    longest_name = max(unique_names, key=len)\n",
    "\n",
    "    # Display the cleaned and formatted list of names\n",
    "    print(\"\\nCleaned Names:\")\n",
    "    print(joined_names)\n",
    "\n",
    "    # Show statistics about the names\n",
    "    print(f\"\\nTotal Unique Names: {len(unique_names)}\")\n",
    "    print(f\" Shortest Name: {shortest_name}\")\n",
    "    print(f\" Longest Name: {longest_name}\")\n",
    "\n",
    "    # Print each name with its index number\n",
    "    print(\"\\n Names with Index:\")\n",
    "    for index, name in enumerate(unique_names, start=1):\n",
    "        print(f\"{index}. {name}\")\n",
    "# Ask user to input names separated by commas\n",
    "user_input = input(\"Enter comma-separated names: \")\n",
    "format_names(user_input)"
   ]
  },
  {
   "cell_type": "code",
   "execution_count": null,
   "id": "9afb5857-1b0d-4b9c-ad23-4c6c2420587b",
   "metadata": {},
   "outputs": [],
   "source": []
  }
 ],
 "metadata": {
  "kernelspec": {
   "display_name": "Python [conda env:base] *",
   "language": "python",
   "name": "conda-base-py"
  },
  "language_info": {
   "codemirror_mode": {
    "name": "ipython",
    "version": 3
   },
   "file_extension": ".py",
   "mimetype": "text/x-python",
   "name": "python",
   "nbconvert_exporter": "python",
   "pygments_lexer": "ipython3",
   "version": "3.12.7"
  }
 },
 "nbformat": 4,
 "nbformat_minor": 5
}
