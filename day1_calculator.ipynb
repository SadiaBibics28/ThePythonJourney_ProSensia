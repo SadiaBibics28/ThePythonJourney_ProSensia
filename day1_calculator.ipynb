{
 "cells": [
  {
   "cell_type": "code",
   "execution_count": 3,
   "id": "d45a0587-9fa8-464b-956a-27b0749e8ee2",
   "metadata": {},
   "outputs": [
    {
     "name": "stdin",
     "output_type": "stream",
     "text": [
      "Hi! What's your name?  Sadia\n"
     ]
    },
    {
     "name": "stdout",
     "output_type": "stream",
     "text": [
      "\n",
      "Welcome, Sadia! Let's do some basic math operations.\n",
      "\n"
     ]
    },
    {
     "name": "stdin",
     "output_type": "stream",
     "text": [
      "Enter the first number:  5\n",
      "Enter the second number:  2\n"
     ]
    },
    {
     "name": "stdout",
     "output_type": "stream",
     "text": [
      "\n",
      " Here are your results:\n",
      " Sum: 5.0 + 2.0 = 7.0\n",
      " Difference: 5.0 - 2.0 = 3.0\n",
      " Product: 5.0 * 2.0 = 10.0\n",
      " Division: 5.0 / 2.0 = 2.50\n",
      "\n",
      "Thanks for using the calculator, Sadia!\n"
     ]
    }
   ],
   "source": [
    "# Interactive Arithmetic Calculator with Error Handling\n",
    "\n",
    "# Reusable function to get a valid number input\n",
    "def get_valid_number(prompt):\n",
    "    while True:\n",
    "        user_input = input(prompt)\n",
    "        try:\n",
    "            # Try converting input to float (covers both int and float cases)\n",
    "            number = float(user_input)\n",
    "            return number\n",
    "        except ValueError:\n",
    "            print(\"Invalid input. Please enter a number (e.g., 5 or 3.14).\")\n",
    "\n",
    "# Welcome message and name input\n",
    "name = input(\"Hi! What's your name? \").strip()\n",
    "if name == \"\":\n",
    "    name = \"User\"  # Default if name is left blank\n",
    "\n",
    "print(f\"\\nWelcome, {name}! Let's do some basic math operations.\\n\")\n",
    "\n",
    "# Getting two valid numbers from the user\n",
    "num1 = get_valid_number(\"Enter the first number: \")\n",
    "num2 = get_valid_number(\"Enter the second number: \")\n",
    "\n",
    "# Performing arithmetic operations\n",
    "sum_result = num1 + num2\n",
    "difference = num1 - num2\n",
    "product = num1 * num2\n",
    "\n",
    "# Handling division with error check\n",
    "try:\n",
    "    division = num1 / num2\n",
    "    division_output = f\"{division:.2f}\"\n",
    "except ZeroDivisionError:\n",
    "    division_output = \" Cannot divide by zero\"\n",
    "\n",
    "# Displaying the results\n",
    "print(\"\\n Here are your results:\")\n",
    "print(f\" Sum: {num1} + {num2} = {sum_result}\")\n",
    "print(f\" Difference: {num1} - {num2} = {difference}\")\n",
    "print(f\" Product: {num1} * {num2} = {product}\")\n",
    "print(f\" Division: {num1} / {num2} = {division_output}\")\n",
    "\n",
    "print(f\"\\nThanks for using the calculator, {name}!\")"
   ]
  },
  {
   "cell_type": "code",
   "execution_count": null,
   "id": "20dedc5f-ae36-483c-a9d9-785e987254c4",
   "metadata": {},
   "outputs": [],
   "source": []
  }
 ],
 "metadata": {
  "kernelspec": {
   "display_name": "Python [conda env:base] *",
   "language": "python",
   "name": "conda-base-py"
  },
  "language_info": {
   "codemirror_mode": {
    "name": "ipython",
    "version": 3
   },
   "file_extension": ".py",
   "mimetype": "text/x-python",
   "name": "python",
   "nbconvert_exporter": "python",
   "pygments_lexer": "ipython3",
   "version": "3.12.7"
  }
 },
 "nbformat": 4,
 "nbformat_minor": 5
}
