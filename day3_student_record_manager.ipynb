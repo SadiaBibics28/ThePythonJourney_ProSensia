{
 "cells": [
  {
   "cell_type": "code",
   "execution_count": 3,
   "id": "56acbfa6-ba29-4f59-a739-4586ba548b8f",
   "metadata": {},
   "outputs": [
    {
     "name": "stdout",
     "output_type": "stream",
     "text": [
      " Student Record Manager\n",
      "Type 'exit' anytime to stop adding students.\n",
      "\n"
     ]
    },
    {
     "name": "stdin",
     "output_type": "stream",
     "text": [
      "Enter student record (Name, Grade):  Ali,80\n"
     ]
    },
    {
     "name": "stdout",
     "output_type": "stream",
     "text": [
      " Added: Ali with grade 80\n"
     ]
    },
    {
     "name": "stdin",
     "output_type": "stream",
     "text": [
      "Enter student record (Name, Grade):  Ahmad,65\n"
     ]
    },
    {
     "name": "stdout",
     "output_type": "stream",
     "text": [
      " Added: Ahmad with grade 65\n"
     ]
    },
    {
     "name": "stdin",
     "output_type": "stream",
     "text": [
      "Enter student record (Name, Grade):  Muhammad,90\n"
     ]
    },
    {
     "name": "stdout",
     "output_type": "stream",
     "text": [
      " Added: Muhammad with grade 90\n"
     ]
    },
    {
     "name": "stdin",
     "output_type": "stream",
     "text": [
      "Enter student record (Name, Grade):  exit\n"
     ]
    },
    {
     "name": "stdout",
     "output_type": "stream",
     "text": [
      "\n",
      " Student Records:\n",
      "- Ahmad: 65\n",
      "- Ali: 80\n",
      "- Muhammad: 90\n",
      "\n",
      " Top Student: Muhammad with grade 90\n",
      "\n",
      " Final Report:\n",
      "- Number of unique students: 3\n",
      "- Class average: 78.33\n",
      "- Students above average:\n",
      "  • Muhammad (90)\n",
      "  • Ali (80)\n"
     ]
    }
   ],
   "source": [
    "#Student Record Manager Using Tuples, Sets, and Functions\n",
    "\n",
    "# ---------------------- Functions ----------------------\n",
    "\n",
    "def add_student(record_set: set, name: str, grade: int) -> set:\n",
    "    \"\"\"\n",
    "    Add a student record (name, grade) to the set if the name is unique.\n",
    "    Returns the updated set.\n",
    "    \"\"\"\n",
    "    # Validate name\n",
    "    if not name.strip():\n",
    "        print(\"❌ Name cannot be empty!\")\n",
    "        return record_set\n",
    "\n",
    "    # Validate grade range\n",
    "    if not (0 <= grade <= 100):\n",
    "        print(\" Grade must be between 0 and 100!\")\n",
    "        return record_set\n",
    "\n",
    "    # Check for duplicate names (case-insensitive)\n",
    "    for student in record_set:\n",
    "        if student[0].lower() == name.lower():\n",
    "            print(f\" Student '{name}' already exists. Skipping...\")\n",
    "            return record_set\n",
    "\n",
    "    # Add new student as a tuple\n",
    "    record_set.add((name, grade))\n",
    "    print(f\" Added: {name} with grade {grade}\")\n",
    "    return record_set\n",
    "\n",
    "\n",
    "def view_all_students(record_set: set) -> None:\n",
    "    \"\"\"\n",
    "    Display all student records in alphabetical order.\n",
    "    \"\"\"\n",
    "    if not record_set:\n",
    "        print(\" No student records available.\")\n",
    "        return\n",
    "\n",
    "    print(\"\\n Student Records:\")\n",
    "    for name, grade in sorted(record_set):\n",
    "        print(f\"- {name}: {grade}\")\n",
    "\n",
    "\n",
    "def get_top_student(record_set: set) -> tuple:\n",
    "    \"\"\"\n",
    "    Return the student with the highest grade as a tuple (name, grade).\n",
    "    If no records exist, return None.\n",
    "    \"\"\"\n",
    "    if not record_set:\n",
    "        return None\n",
    "    return max(record_set, key=lambda student: student[1])\n",
    "\n",
    "\n",
    "def filter_students(record_set: set, min_grade: int) -> list:\n",
    "    \"\"\"\n",
    "    Return a list of students with grades above the given minimum.\n",
    "    \"\"\"\n",
    "    return [student for student in record_set if student[1] > min_grade]\n",
    "\n",
    "\n",
    "# ---------------------- Main Program ----------------------\n",
    "\n",
    "# Set to store tuples in the form: (name, grade)\n",
    "student_records = set()\n",
    "\n",
    "print(\" Student Record Manager\")\n",
    "print(\"Type 'exit' anytime to stop adding students.\\n\")\n",
    "\n",
    "# Loop to collect student records\n",
    "while True:\n",
    "    entry = input(\"Enter student record (Name, Grade): \")\n",
    "\n",
    "    if entry.lower() == \"exit\":\n",
    "        break\n",
    "\n",
    "    try:\n",
    "        name, grade = entry.split(\",\")\n",
    "        student_records = add_student(\n",
    "            record_set=student_records,\n",
    "            name=name.strip(),\n",
    "            grade=int(grade.strip())\n",
    "        )\n",
    "    except ValueError:\n",
    "        print(\" Invalid format. Please enter as: Name, Grade\")\n",
    "\n",
    "# Show all students\n",
    "view_all_students(record_set=student_records)\n",
    "\n",
    "# Show top student\n",
    "top_student = get_top_student(record_set=student_records)\n",
    "if top_student:\n",
    "    print(f\"\\n Top Student: {top_student[0]} with grade {top_student[1]}\")\n",
    "\n",
    "# Final report (only if we have records)\n",
    "if student_records:\n",
    "    total_students = len(student_records)\n",
    "    average_grade = sum(grade for _, grade in student_records) / total_students\n",
    "    above_avg_students = filter_students(\n",
    "        record_set=student_records,\n",
    "        min_grade=average_grade\n",
    "    )\n",
    "\n",
    "    print(\"\\n Final Report:\")\n",
    "    print(f\"- Number of unique students: {total_students}\")\n",
    "    print(f\"- Class average: {average_grade:.2f}\")\n",
    "    print(\"- Students above average:\")\n",
    "    for name, grade in above_avg_students:\n",
    "        print(f\"  • {name} ({grade})\")"
   ]
  },
  {
   "cell_type": "code",
   "execution_count": null,
   "id": "b0f62fed-5b79-447d-91ed-4051dbbbdb0e",
   "metadata": {},
   "outputs": [],
   "source": []
  }
 ],
 "metadata": {
  "kernelspec": {
   "display_name": "Python [conda env:base] *",
   "language": "python",
   "name": "conda-base-py"
  },
  "language_info": {
   "codemirror_mode": {
    "name": "ipython",
    "version": 3
   },
   "file_extension": ".py",
   "mimetype": "text/x-python",
   "name": "python",
   "nbconvert_exporter": "python",
   "pygments_lexer": "ipython3",
   "version": "3.12.7"
  }
 },
 "nbformat": 4,
 "nbformat_minor": 5
}
